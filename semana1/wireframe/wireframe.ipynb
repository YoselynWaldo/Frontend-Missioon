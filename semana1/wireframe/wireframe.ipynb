{
 "cells": [
  {
   "cell_type": "markdown",
   "metadata": {},
   "source": [
    "# Wireframe AbogaBot\n",
    "Practica Frontend Launch X - Innovaccion virtual.\n",
    "\n",
    "### Pantallas de Inicio\n",
    "![Inicio](../../src/img/Inicio.jpg)\n",
    "### Pantallas para usuario \n",
    "![Ingreso](../../src/img/Usuario.jpg)\n",
    "![Registro](../../src/img/Registro.jpg)\n",
    "\n",
    "##### [Regresar a Semana 1](../semana1.ipynb \"Semana 1\")\n",
    "#### [Regresar al inico](../../README.md \"Semana 1\")\n"
   ]
  }
 ],
 "metadata": {
  "language_info": {
   "name": "python"
  },
  "orig_nbformat": 4
 },
 "nbformat": 4,
 "nbformat_minor": 2
}
