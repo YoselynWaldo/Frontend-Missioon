{
 "cells": [
  {
   "cell_type": "markdown",
   "metadata": {},
   "source": [
    "# UI AbogaBot\n",
    "Practica Frontend Launch X - Innovaccion virtual.\n",
    "\n",
    "### Pantalla inicial\n",
    "![UI](../../src/img/UI.jpg)\n",
    "\n",
    "##### [Regresar a Semana 1](../semana1.ipynb \"Semana 1\")\n",
    "#### [Regresar al inico](../../README.md \"Semana 1\")\n"
   ]
  }
 ],
 "metadata": {
  "language_info": {
   "name": "python"
  },
  "orig_nbformat": 4
 },
 "nbformat": 4,
 "nbformat_minor": 2
}
