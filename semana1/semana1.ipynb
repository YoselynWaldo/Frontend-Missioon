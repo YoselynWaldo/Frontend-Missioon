{
 "cells": [
  {
   "cell_type": "markdown",
   "metadata": {},
   "source": [
    "# Misión AbogaBot \n",
    "Practica Frontend Launch X - Innovaccion virtual.\n",
    "\n",
    "En una reunión con despacho de abogados se fijaron los requerimientos para el desarrollo de una aplicación que busca la mejora entre la comunicación cliente-abogado.\n",
    "\n",
    "\n",
    "### [Toma de requerimientos](https://innovaccion-my.sharepoint.com/:b:/g/personal/launchx03267_innovaccion_mx/EZxWJxckPBJNlblb8sXHE0MB99wHnFE3mflMDMG-VN3BJA?e=zNkVac\"ERS\")\n",
    "\n",
    "### [Buyer Persona](https://innovaccion-my.sharepoint.com/:b:/g/personal/launchx03267_innovaccion_mx/ERwdz4Iil01FqzzwDiZGpz8BE4fhxf6JIymujpWyF9RKAg?e=1Yu9np \"Buyer\")\n",
    "\n",
    "### [Publico objetivo](https://miro.com/app/board/uXjVOH_bd3E=/?invite_link_id=421312742391 \"Publico objetivo\")\n",
    "\n",
    "### [WireFrame](wireframe/wireframe.ipynb \"WireFrame\")\n",
    "\n",
    "### [UI](UI/ui.ipynb \"UI\")\n",
    "![Logo](../src/img/Logo.jpg)\n",
    "\n",
    "\n",
    "#### [Regresar al inico](../README.md \"Semana 1\")\n",
    "\n"
   ]
  }
 ],
 "metadata": {
  "language_info": {
   "name": "python"
  },
  "orig_nbformat": 4
 },
 "nbformat": 4,
 "nbformat_minor": 2
}
